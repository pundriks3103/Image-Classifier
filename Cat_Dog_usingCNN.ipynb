{
  "nbformat": 4,
  "nbformat_minor": 0,
  "metadata": {
    "colab": {
      "name": "Cat_Dog_usingCNN.ipynb",
      "provenance": [],
      "collapsed_sections": [],
      "toc_visible": true
    },
    "kernelspec": {
      "name": "python3",
      "display_name": "Python 3"
    },
    "accelerator": "GPU"
  },
  "cells": [
    {
      "cell_type": "markdown",
      "metadata": {
        "id": "TjIwQLgq5AZP"
      },
      "source": [
        "# **Cat v/s Dog Classification**\n",
        "---\n",
        "**Problem Statement :** This is the very basic problem of classification of Images of two categories using the Deep Neural Networks.\n",
        "\n",
        "Image classification is the process of taking an input (like a picture) and outputting a class (like “cat”) or a probability that the input is a particular class (“there’s a 90% probability that this input is a cat”).\n",
        "\n",
        "The Dataset can be found easily on Kaggle or any other website. This dataset consists of 4000 Images each of Cat and Dog in the Training Set and 1000 Images each of Cat and Dog in the Test Set.\n"
      ]
    },
    {
      "cell_type": "markdown",
      "metadata": {
        "id": "mk4OXd0u9cWq"
      },
      "source": [
        "Image Classification can be solved with the help of a Convolutional Neural Network(CNN). A CNN usually have:\n",
        "\n",
        "1. Convolutional Layers\n",
        "2. ReLU Layers\n",
        "3. Pooling Layers\n",
        "4. Fully connected Layers"
      ]
    },
    {
      "cell_type": "markdown",
      "metadata": {
        "id": "p6Emp4V967i2"
      },
      "source": [
        "---\n",
        "### Uploading Dataset and Unzipping the Files\n",
        "\n",
        "---"
      ]
    },
    {
      "cell_type": "code",
      "metadata": {
        "id": "vYqMg0OeLThm",
        "outputId": "bbd7e567-582e-4ee6-fbd3-1652eb476c9e",
        "colab": {
          "base_uri": "https://localhost:8080/",
          "height": 122
        }
      },
      "source": [
        "from google.colab import drive\n",
        "drive.mount('/content/drive')"
      ],
      "execution_count": null,
      "outputs": [
        {
          "output_type": "stream",
          "text": [
            "Go to this URL in a browser: https://accounts.google.com/o/oauth2/auth?client_id=947318989803-6bn6qk8qdgf4n4g3pfee6491hc0brc4i.apps.googleusercontent.com&redirect_uri=urn%3aietf%3awg%3aoauth%3a2.0%3aoob&response_type=code&scope=email%20https%3a%2f%2fwww.googleapis.com%2fauth%2fdocs.test%20https%3a%2f%2fwww.googleapis.com%2fauth%2fdrive%20https%3a%2f%2fwww.googleapis.com%2fauth%2fdrive.photos.readonly%20https%3a%2f%2fwww.googleapis.com%2fauth%2fpeopleapi.readonly\n",
            "\n",
            "Enter your authorization code:\n",
            "··········\n",
            "Mounted at /content/drive\n"
          ],
          "name": "stdout"
        }
      ]
    },
    {
      "cell_type": "code",
      "metadata": {
        "id": "lsLtEXMhH7lZ"
      },
      "source": [
        "#Unzipping the Files\n",
        "from zipfile import ZipFile\n",
        "file_name='/content/drive/My Drive/P16-Convolutional-Neural-Networks.zip'\n",
        "with ZipFile(file_name,'r') as zip:\n",
        "  zip.extractall()"
      ],
      "execution_count": null,
      "outputs": []
    },
    {
      "cell_type": "markdown",
      "metadata": {
        "id": "VLlDSVH07IEb"
      },
      "source": [
        "##**Steps of Solution :**\n",
        "\n",
        "1. Importing the required Libraries\n",
        "2. Image Augmentation\n",
        "3. Building the CNN Models.\n",
        "4. Fitting the CNN Models to the Images and finding their Accuracies.\n",
        "5. Removing Overfitting problem by Dropout Regularization\n",
        "6. Saving the Best Model.\n",
        "7. Making Sample Predictions.\n",
        "\n",
        "\n",
        "\n",
        "> **Note :** This problem of Image Classification has no traditional **\"X\"** & **\"y\"** variables although the solution of the problem is a **supervised learning technique**. Here input X is the image itself and output y is the label \"Cat\" or \"Dog\". \n",
        "\n",
        "*   If the Dataset is already labeled and segregated as follows, then we can proceed to the solution directly.\n",
        "\n",
        "```\n",
        "dataset_dogs_vs_cats\n",
        "  ── test\n",
        "      ── cats    \n",
        "      ── dogs\n",
        "  ── train\n",
        "      ── cats\n",
        "      ── dogs\n",
        "```\n",
        "*   If the Dataset has just two folders, 'Train' and 'Test', each containing unlabeled images of cats and dogs, we first need to organise the data as the previous case. This can be simply done using the Keras Library.     "
      ]
    },
    {
      "cell_type": "markdown",
      "metadata": {
        "id": "Z7b1VIw37aCC"
      },
      "source": [
        "---\n",
        "### Step 1. Importing the Libraries\n",
        "\n",
        "---"
      ]
    },
    {
      "cell_type": "code",
      "metadata": {
        "id": "TVgRgesC6saS",
        "outputId": "628d8a62-f89c-493e-f437-d25b78a274f7",
        "colab": {
          "base_uri": "https://localhost:8080/",
          "height": 34
        }
      },
      "source": [
        "import numpy as np\n",
        "from keras.models import Sequential # To initialise the Neural Network\n",
        "from keras.layers import Convolution2D # To add Convolutional Layers\n",
        "from keras.layers import MaxPooling2D # For Pooling Step\n",
        "from keras.layers import Flatten # For converting Pooled features to Matrix\n",
        "from keras.layers import Dense, Dropout\n",
        "from keras import optimizers"
      ],
      "execution_count": null,
      "outputs": [
        {
          "output_type": "stream",
          "text": [
            "Using TensorFlow backend.\n"
          ],
          "name": "stderr"
        }
      ]
    },
    {
      "cell_type": "markdown",
      "metadata": {
        "id": "PRr6UP_M5A6X"
      },
      "source": [
        "---\n",
        "### Step 2. Image Augmentation\n",
        "\n",
        "---"
      ]
    },
    {
      "cell_type": "markdown",
      "metadata": {
        "id": "F0wUPiveUWNw"
      },
      "source": [
        "To train a CNN model more accurately on the image dataset, we can either increase the number of images in the dataset or apply **Image Augmentation**.\n",
        "\n",
        "Image augmentation will create many batches of our images, and in each batch it will apply some random transformation on a random selection of the images, like rotation them, flipping them etc. ; and eventually we will get a large diversification in the batches, and therefore a lot of material to train.\n",
        "\n",
        "It can also act as a regularization technique, adding noise to the training data, and encouraging the model to learn the same features, invariant to their position in the input."
      ]
    },
    {
      "cell_type": "markdown",
      "metadata": {
        "id": "NNcS3WPu8Y9K"
      },
      "source": [
        "**ImageDataGenerator** is used to scale the images (similar to feature scaling in ML). It is scaled by 255 because the values of pixels range from 0-255 for 8-bit data. \n",
        "\n",
        "**flow_from_directory** is used to convert all the images into same size of (64x64), and using batch size of 32 means the weights of neural network will be updated after traing on each batch of 32 images. "
      ]
    },
    {
      "cell_type": "code",
      "metadata": {
        "id": "2QFUy2PcDPaZ",
        "outputId": "b79f92a5-3361-4ed7-c105-286c162897db",
        "colab": {
          "base_uri": "https://localhost:8080/",
          "height": 51
        }
      },
      "source": [
        "from keras.preprocessing.image import ImageDataGenerator\n",
        "train_datagen = ImageDataGenerator(rescale = 1./255, shear_range = 0.2, zoom_range = 0.2, horizontal_flip = True)\n",
        "test_datagen = ImageDataGenerator(rescale = 1./255)\n",
        "training_set = train_datagen.flow_from_directory('/content/Convolutional_Neural_Networks/dataset/training_set', target_size = (64, 64), batch_size = 32, class_mode = 'binary')\n",
        "test_set = test_datagen.flow_from_directory('/content/Convolutional_Neural_Networks/dataset/test_set', target_size = (64, 64), batch_size = 32, class_mode = 'binary')"
      ],
      "execution_count": null,
      "outputs": [
        {
          "output_type": "stream",
          "text": [
            "Found 8000 images belonging to 2 classes.\n",
            "Found 2000 images belonging to 2 classes.\n"
          ],
          "name": "stdout"
        }
      ]
    },
    {
      "cell_type": "markdown",
      "metadata": {
        "id": "OXpCwc-oBRlO"
      },
      "source": [
        "---\n",
        "### Step 3. Building the CNN Models\n",
        "\n",
        "---"
      ]
    },
    {
      "cell_type": "markdown",
      "metadata": {
        "id": "5717X-Un-scP"
      },
      "source": [
        "A CNN Model\n",
        "*   starts with an input image\n",
        "*   **Convolution Layer:** applies many different filters to it to create a feature map and applies a ReLU function to increase non-linearity.\n",
        "*   **Pooling Layer:** applies a pooling layer to each feature map.\n",
        "    \n",
        "    > The size of Pooling Layer is usually taken as 2x2 to avoid loosing features of the feature map. \n",
        "*   **Flattening Layer:** flattens the pooled images into one long vector.\n",
        "*   **Fully Connected Layer:** inputs the vector into a fully connected artificial neural network.\n",
        "*   processes the features through the network. The final fully connected layer provides the “voting” of the classes that we’re after.\n"
      ]
    },
    {
      "cell_type": "markdown",
      "metadata": {
        "id": "w5OdteM9DxCj"
      },
      "source": [
        "    A CNN model may have many number of Convolutional Layers. Standard Procedure involves taking 32, (3x3) filters. \n",
        "\n",
        "The number of filters are increased as the number of Convolutional layers are increased."
      ]
    },
    {
      "cell_type": "code",
      "metadata": {
        "id": "V1j6P2C0G4eN"
      },
      "source": [
        "# Single Convolution Layer CNN Model\n",
        "def cnn_model1():\n",
        "  classifier = Sequential()\n",
        "  classifier.add(Convolution2D(32, 3, 3, input_shape=(64, 64, 3), activation = 'relu'))\n",
        "  classifier.add(MaxPooling2D(pool_size = (2,2)))\n",
        "  classifier.add(Flatten())\n",
        "  classifier.add(Dense(units = 128, activation = 'relu'))\n",
        "  classifier.add(Dense(units = 1, activation = 'sigmoid'))\n",
        "  # Compiling the CNN\n",
        "  classifier.compile(optimizer = 'adam', loss = 'binary_crossentropy', metrics = ['accuracy'])\n",
        "  return classifier\n",
        "\n",
        "# Two Convolution Layer CNN Model\n",
        "def cnn_model2():\n",
        "  classifier = Sequential()\n",
        "  classifier.add(Convolution2D(32, 3, 3, input_shape=(64, 64, 3), activation = 'relu'))\n",
        "  classifier.add(MaxPooling2D(pool_size = (2,2)))\n",
        "  classifier.add(Convolution2D(64, 3, 3, input_shape=(64, 64, 3), activation = 'relu'))\n",
        "  classifier.add(MaxPooling2D(pool_size = (2,2)))\n",
        "  classifier.add(Flatten())\n",
        "  classifier.add(Dense(units = 128, activation = 'relu'))\n",
        "  classifier.add(Dense(units = 1, activation = 'sigmoid'))\n",
        "  # Compiling the CNN\n",
        "  classifier.compile(optimizer = 'adam', loss = 'binary_crossentropy', metrics = ['accuracy'])\n",
        "  return classifier\n",
        "\n",
        "# Three Convolution Layer CNN Model\n",
        "def cnn_model3():\n",
        "  classifier = Sequential()\n",
        "  classifier.add(Convolution2D(32, 3, 3, input_shape=(64, 64, 3), activation = 'relu'))\n",
        "  classifier.add(MaxPooling2D(pool_size = (2,2)))\n",
        "  classifier.add(Convolution2D(64, 3, 3, input_shape=(64, 64, 3), activation = 'relu'))\n",
        "  classifier.add(MaxPooling2D(pool_size = (2,2)))\n",
        "  classifier.add(Convolution2D(128, 3, 3, input_shape=(64, 64, 3), activation = 'relu'))\n",
        "  classifier.add(MaxPooling2D(pool_size = (2,2)))\n",
        "  classifier.add(Flatten())\n",
        "  classifier.add(Dense(units = 128, activation = 'relu'))\n",
        "  classifier.add(Dense(units = 1, activation = 'sigmoid'))\n",
        "  # Compiling the CNN\n",
        "  classifier.compile(optimizer = 'adam', loss = 'binary_crossentropy', metrics = ['accuracy'])\n",
        "  return classifier"
      ],
      "execution_count": null,
      "outputs": []
    },
    {
      "cell_type": "markdown",
      "metadata": {
        "id": "6OmigMYV5a0O"
      },
      "source": [
        "---\n",
        "### Step 4. Fitting the CNN Models to the Images and finding their Accuracies.\n",
        "\n",
        "---"
      ]
    },
    {
      "cell_type": "markdown",
      "metadata": {
        "id": "arRy-ZG4Dp7R"
      },
      "source": [
        "A CNN trains through forward propagation and backpropagation for many, many epochs. This repeats until we have a well-defined neural network with trained weights and feature detectors."
      ]
    },
    {
      "cell_type": "code",
      "metadata": {
        "id": "NB-eCOgNLyfr",
        "outputId": "d4461af9-8986-48b5-9b74-e2f5cadc6de1",
        "colab": {
          "base_uri": "https://localhost:8080/",
          "height": 142
        }
      },
      "source": [
        "# Fitting the CNN Model_1 to the images\n",
        "model1 = cnn_model1()\n",
        "history1 = model1.fit_generator(training_set, steps_per_epoch = 8000, epochs = 2, validation_data = test_set, validation_steps = 2000)"
      ],
      "execution_count": null,
      "outputs": [
        {
          "output_type": "stream",
          "text": [
            "/usr/local/lib/python3.6/dist-packages/ipykernel_launcher.py:3: UserWarning: Update your `Conv2D` call to the Keras 2 API: `Conv2D(32, (3, 3), input_shape=(64, 64, 3..., activation=\"relu\")`\n",
            "  This is separate from the ipykernel package so we can avoid doing imports until\n"
          ],
          "name": "stderr"
        },
        {
          "output_type": "stream",
          "text": [
            "Epoch 1/2\n",
            "8000/8000 [==============================] - 1011s 126ms/step - loss: 0.3722 - acc: 0.8265 - val_loss: 0.7882 - val_acc: 0.7446\n",
            "Epoch 2/2\n",
            "8000/8000 [==============================] - 1037s 130ms/step - loss: 0.1224 - acc: 0.9535 - val_loss: 1.0571 - val_acc: 0.7606\n"
          ],
          "name": "stdout"
        }
      ]
    },
    {
      "cell_type": "code",
      "metadata": {
        "id": "Rp-ZFpUrcqWY",
        "outputId": "1dd495f9-b31e-4703-f1a8-3985ee5b5463",
        "colab": {
          "base_uri": "https://localhost:8080/",
          "height": 160
        }
      },
      "source": [
        "# Fitting the CNN Model_2 to the images\n",
        "model2 = cnn_model2()\n",
        "history2 = model2.fit_generator(training_set, steps_per_epoch = 8000, epochs = 2, validation_data = test_set, validation_steps = 2000)"
      ],
      "execution_count": null,
      "outputs": [
        {
          "output_type": "stream",
          "text": [
            "/usr/local/lib/python3.6/dist-packages/ipykernel_launcher.py:15: UserWarning: Update your `Conv2D` call to the Keras 2 API: `Conv2D(32, (3, 3), input_shape=(64, 64, 3..., activation=\"relu\")`\n",
            "  from ipykernel import kernelapp as app\n",
            "/usr/local/lib/python3.6/dist-packages/ipykernel_launcher.py:17: UserWarning: Update your `Conv2D` call to the Keras 2 API: `Conv2D(64, (3, 3), input_shape=(64, 64, 3..., activation=\"relu\")`\n"
          ],
          "name": "stderr"
        },
        {
          "output_type": "stream",
          "text": [
            "Epoch 1/2\n",
            "8000/8000 [==============================] - 1024s 128ms/step - loss: 0.3608 - acc: 0.8312 - val_loss: 0.5475 - val_acc: 0.8055\n",
            "Epoch 2/2\n",
            "8000/8000 [==============================] - 1004s 125ms/step - loss: 0.1381 - acc: 0.9453 - val_loss: 0.7736 - val_acc: 0.8199\n"
          ],
          "name": "stdout"
        }
      ]
    },
    {
      "cell_type": "code",
      "metadata": {
        "id": "OLfFTQSGcq8y",
        "outputId": "5fd768b2-f451-4115-e160-b403207e67b3",
        "colab": {
          "base_uri": "https://localhost:8080/",
          "height": 160
        }
      },
      "source": [
        "# Fitting the CNN Model_3 to the images\n",
        "model3 = cnn_model3()\n",
        "history3 = model3.fit_generator(training_set, steps_per_epoch = 8000, epochs = 2, validation_data = test_set, validation_steps = 2000)"
      ],
      "execution_count": null,
      "outputs": [
        {
          "output_type": "stream",
          "text": [
            "/usr/local/lib/python3.6/dist-packages/ipykernel_launcher.py:29: UserWarning: Update your `Conv2D` call to the Keras 2 API: `Conv2D(32, (3, 3), input_shape=(64, 64, 3..., activation=\"relu\")`\n",
            "/usr/local/lib/python3.6/dist-packages/ipykernel_launcher.py:31: UserWarning: Update your `Conv2D` call to the Keras 2 API: `Conv2D(64, (3, 3), input_shape=(64, 64, 3..., activation=\"relu\")`\n",
            "/usr/local/lib/python3.6/dist-packages/ipykernel_launcher.py:33: UserWarning: Update your `Conv2D` call to the Keras 2 API: `Conv2D(128, (3, 3), input_shape=(64, 64, 3..., activation=\"relu\")`\n"
          ],
          "name": "stderr"
        },
        {
          "output_type": "stream",
          "text": [
            "Epoch 1/2\n",
            "8000/8000 [==============================] - 996s 124ms/step - loss: 0.3275 - acc: 0.8487 - val_loss: 0.4287 - val_acc: 0.8470\n",
            "Epoch 2/2\n",
            "8000/8000 [==============================] - 1001s 125ms/step - loss: 0.0972 - acc: 0.9622 - val_loss: 0.5905 - val_acc: 0.8558\n"
          ],
          "name": "stdout"
        }
      ]
    },
    {
      "cell_type": "code",
      "metadata": {
        "id": "RAKyqV8d2nhT"
      },
      "source": [
        "acc_val1 = history1.history['val_acc'][1]\n",
        "acc1 = history1.history['acc'][1]\n",
        "acc_val2 = history2.history['val_acc'][1]\n",
        "acc2 = history2.history['acc'][1]\n",
        "acc_val3 = history3.history['val_acc'][1]\n",
        "acc3 = history3.history['acc'][1]"
      ],
      "execution_count": null,
      "outputs": []
    },
    {
      "cell_type": "markdown",
      "metadata": {
        "id": "IqNIlDEUe_Kb"
      },
      "source": [
        "> **Comparison of Results**"
      ]
    },
    {
      "cell_type": "code",
      "metadata": {
        "id": "oZMcoNmpe9YW",
        "outputId": "f21fd6ef-62cc-475f-a657-cd62725c168d",
        "colab": {
          "base_uri": "https://localhost:8080/",
          "height": 122
        }
      },
      "source": [
        "from prettytable import PrettyTable\n",
        "t = PrettyTable(['Name: CNN with-', '1 Convolution Layer', '2 Convolution Layer', '3 Convolution Layer'])\n",
        "t.add_row(['Accuracy', acc1, acc2, acc3])\n",
        "t.add_row(['Validation Accuracy', acc_val1, acc_val2, acc_val3])\n",
        "print(t)"
      ],
      "execution_count": null,
      "outputs": [
        {
          "output_type": "stream",
          "text": [
            "+---------------------+---------------------+---------------------+---------------------+\n",
            "|   Name: CNN with-   | 1 Convolution Layer | 2 Convolution Layer | 3 Convolution Layer |\n",
            "+---------------------+---------------------+---------------------+---------------------+\n",
            "|       Accuracy      |     0.9534609375    |    0.94528515625    |    0.96220703125    |\n",
            "| Validation Accuracy |  0.7606476814516129 |  0.8199187247983871 |  0.8558310231854839 |\n",
            "+---------------------+---------------------+---------------------+---------------------+\n"
          ],
          "name": "stdout"
        }
      ]
    },
    {
      "cell_type": "markdown",
      "metadata": {
        "id": "1jQVvVcxP5o4"
      },
      "source": [
        "As, we can see that Model with 3 convolutional layer has maximum accuracy on the validation set, but it seems to have Overfit on the training set. So, the best way is to add dropout regularisation on this model and reduce overfitting. "
      ]
    },
    {
      "cell_type": "markdown",
      "metadata": {
        "id": "zom5sKv0Qo1E"
      },
      "source": [
        "---\n",
        "### Step 5. Removing Overfitting problem by Dropout Regularization\n",
        "\n",
        "---"
      ]
    },
    {
      "cell_type": "code",
      "metadata": {
        "id": "yitRLMX_Qmzh"
      },
      "source": [
        "# Three Convolution Layer CNN Model (Modified)\n",
        "def cnn_model_modified():\n",
        "  classifier = Sequential()\n",
        "  classifier.add(Convolution2D(32, 3, 3, input_shape=(64, 64, 3), activation = 'relu'))\n",
        "  classifier.add(MaxPooling2D(pool_size = (2,2)))\n",
        "  classifier.add(Dropout(0.2))\n",
        "  classifier.add(Convolution2D(64, 3, 3, input_shape=(64, 64, 3), activation = 'relu'))\n",
        "  classifier.add(MaxPooling2D(pool_size = (2,2)))\n",
        "  classifier.add(Dropout(0.2))\n",
        "  classifier.add(Convolution2D(128, 3, 3, input_shape=(64, 64, 3), activation = 'relu'))\n",
        "  classifier.add(MaxPooling2D(pool_size = (2,2)))\n",
        "  classifier.add(Dropout(0.2))\n",
        "  classifier.add(Flatten())\n",
        "  classifier.add(Dense(units = 128, activation = 'relu'))\n",
        "  classifier.add(Dropout(0.5))\n",
        "  classifier.add(Dense(units = 1, activation = 'sigmoid'))\n",
        "  # Compiling the CNN\n",
        "  classifier.compile(optimizer = 'adam', loss = 'binary_crossentropy', metrics = ['accuracy'])\n",
        "  return classifier"
      ],
      "execution_count": null,
      "outputs": []
    },
    {
      "cell_type": "code",
      "metadata": {
        "id": "Bx6zb7OMSVGn",
        "outputId": "46f3bc8d-b208-4474-d020-7843f120db42",
        "colab": {
          "base_uri": "https://localhost:8080/",
          "height": 952
        }
      },
      "source": [
        "# Fitting the CNN Model_Modified to the images\n",
        "model = cnn_model_modified()\n",
        "accuracies = model.fit_generator(training_set, steps_per_epoch = 8000, epochs = 5, validation_data = test_set, validation_steps = 2000)"
      ],
      "execution_count": null,
      "outputs": [
        {
          "output_type": "stream",
          "text": [
            "WARNING:tensorflow:From /usr/local/lib/python3.6/dist-packages/keras/backend/tensorflow_backend.py:66: The name tf.get_default_graph is deprecated. Please use tf.compat.v1.get_default_graph instead.\n",
            "\n",
            "WARNING:tensorflow:From /usr/local/lib/python3.6/dist-packages/keras/backend/tensorflow_backend.py:541: The name tf.placeholder is deprecated. Please use tf.compat.v1.placeholder instead.\n",
            "\n",
            "WARNING:tensorflow:From /usr/local/lib/python3.6/dist-packages/keras/backend/tensorflow_backend.py:4432: The name tf.random_uniform is deprecated. Please use tf.random.uniform instead.\n",
            "\n",
            "WARNING:tensorflow:From /usr/local/lib/python3.6/dist-packages/keras/backend/tensorflow_backend.py:4267: The name tf.nn.max_pool is deprecated. Please use tf.nn.max_pool2d instead.\n",
            "\n",
            "WARNING:tensorflow:From /usr/local/lib/python3.6/dist-packages/keras/backend/tensorflow_backend.py:148: The name tf.placeholder_with_default is deprecated. Please use tf.compat.v1.placeholder_with_default instead.\n",
            "\n",
            "WARNING:tensorflow:From /usr/local/lib/python3.6/dist-packages/keras/backend/tensorflow_backend.py:3733: calling dropout (from tensorflow.python.ops.nn_ops) with keep_prob is deprecated and will be removed in a future version.\n",
            "Instructions for updating:\n",
            "Please use `rate` instead of `keep_prob`. Rate should be set to `rate = 1 - keep_prob`.\n",
            "WARNING:tensorflow:From /usr/local/lib/python3.6/dist-packages/keras/optimizers.py:793: The name tf.train.Optimizer is deprecated. Please use tf.compat.v1.train.Optimizer instead.\n",
            "\n",
            "WARNING:tensorflow:From /usr/local/lib/python3.6/dist-packages/keras/backend/tensorflow_backend.py:3657: The name tf.log is deprecated. Please use tf.math.log instead.\n",
            "\n",
            "WARNING:tensorflow:From /usr/local/lib/python3.6/dist-packages/tensorflow_core/python/ops/nn_impl.py:183: where (from tensorflow.python.ops.array_ops) is deprecated and will be removed in a future version.\n",
            "Instructions for updating:\n",
            "Use tf.where in 2.0, which has the same broadcast rule as np.where\n"
          ],
          "name": "stdout"
        },
        {
          "output_type": "stream",
          "text": [
            "/usr/local/lib/python3.6/dist-packages/ipykernel_launcher.py:3: UserWarning: Update your `Conv2D` call to the Keras 2 API: `Conv2D(32, (3, 3), input_shape=(64, 64, 3..., activation=\"relu\")`\n",
            "  This is separate from the ipykernel package so we can avoid doing imports until\n",
            "/usr/local/lib/python3.6/dist-packages/ipykernel_launcher.py:6: UserWarning: Update your `Conv2D` call to the Keras 2 API: `Conv2D(64, (3, 3), input_shape=(64, 64, 3..., activation=\"relu\")`\n",
            "  \n",
            "/usr/local/lib/python3.6/dist-packages/ipykernel_launcher.py:9: UserWarning: Update your `Conv2D` call to the Keras 2 API: `Conv2D(128, (3, 3), input_shape=(64, 64, 3..., activation=\"relu\")`\n",
            "  if __name__ == '__main__':\n"
          ],
          "name": "stderr"
        },
        {
          "output_type": "stream",
          "text": [
            "WARNING:tensorflow:From /usr/local/lib/python3.6/dist-packages/keras/backend/tensorflow_backend.py:1033: The name tf.assign_add is deprecated. Please use tf.compat.v1.assign_add instead.\n",
            "\n",
            "WARNING:tensorflow:From /usr/local/lib/python3.6/dist-packages/keras/backend/tensorflow_backend.py:1020: The name tf.assign is deprecated. Please use tf.compat.v1.assign instead.\n",
            "\n",
            "WARNING:tensorflow:From /usr/local/lib/python3.6/dist-packages/keras/backend/tensorflow_backend.py:3005: The name tf.Session is deprecated. Please use tf.compat.v1.Session instead.\n",
            "\n",
            "Epoch 1/5\n",
            "WARNING:tensorflow:From /usr/local/lib/python3.6/dist-packages/keras/backend/tensorflow_backend.py:190: The name tf.get_default_session is deprecated. Please use tf.compat.v1.get_default_session instead.\n",
            "\n",
            "WARNING:tensorflow:From /usr/local/lib/python3.6/dist-packages/keras/backend/tensorflow_backend.py:197: The name tf.ConfigProto is deprecated. Please use tf.compat.v1.ConfigProto instead.\n",
            "\n",
            "WARNING:tensorflow:From /usr/local/lib/python3.6/dist-packages/keras/backend/tensorflow_backend.py:207: The name tf.global_variables is deprecated. Please use tf.compat.v1.global_variables instead.\n",
            "\n",
            "WARNING:tensorflow:From /usr/local/lib/python3.6/dist-packages/keras/backend/tensorflow_backend.py:216: The name tf.is_variable_initialized is deprecated. Please use tf.compat.v1.is_variable_initialized instead.\n",
            "\n",
            "WARNING:tensorflow:From /usr/local/lib/python3.6/dist-packages/keras/backend/tensorflow_backend.py:223: The name tf.variables_initializer is deprecated. Please use tf.compat.v1.variables_initializer instead.\n",
            "\n",
            "8000/8000 [==============================] - 1024s 128ms/step - loss: 0.4328 - acc: 0.7901 - val_loss: 0.3660 - val_acc: 0.8483\n",
            "Epoch 2/5\n",
            "8000/8000 [==============================] - 1005s 126ms/step - loss: 0.2758 - acc: 0.8823 - val_loss: 0.3475 - val_acc: 0.8680\n",
            "Epoch 3/5\n",
            "8000/8000 [==============================] - 1028s 128ms/step - loss: 0.2151 - acc: 0.9115 - val_loss: 0.3583 - val_acc: 0.8699\n",
            "Epoch 4/5\n",
            "8000/8000 [==============================] - 1035s 129ms/step - loss: 0.1809 - acc: 0.9270 - val_loss: 0.3560 - val_acc: 0.8697\n",
            "Epoch 5/5\n",
            "8000/8000 [==============================] - 1042s 130ms/step - loss: 0.1576 - acc: 0.9372 - val_loss: 0.4168 - val_acc: 0.8757\n"
          ],
          "name": "stdout"
        }
      ]
    },
    {
      "cell_type": "markdown",
      "metadata": {
        "id": "O49f7NzQ5tj0"
      },
      "source": [
        "---\n",
        "### Step 5. Saving the Best Model\n",
        "\n",
        "---"
      ]
    },
    {
      "cell_type": "code",
      "metadata": {
        "id": "CmJ120kJbBlC"
      },
      "source": [
        "import pickle\n",
        "pickle.dump(model, open('model.pkl','wb'))"
      ],
      "execution_count": null,
      "outputs": []
    },
    {
      "cell_type": "markdown",
      "metadata": {
        "id": "uRBEYwFh51ca"
      },
      "source": [
        "---\n",
        "### Step 6. Making Sample Predictions\n",
        "\n",
        "---"
      ]
    },
    {
      "cell_type": "code",
      "metadata": {
        "id": "73dRbnY6MJ4I"
      },
      "source": [
        "import numpy as np\n",
        "from keras.preprocessing import image\n",
        "test_image = image.load_img('/content/Convolutional_Neural_Networks/dataset/single_prediction/cat_or_dog_1.jpg', target_size = (64, 64))\n",
        "actual_test_image = test_image\n",
        "test_image = image.img_to_array(test_image)\n",
        "test_image = np.expand_dims(test_image, axis = 0)\n",
        "result = model3.predict(test_image)\n",
        "training_set.class_indices\n",
        "if result[0][0] == 1:\n",
        "    prediction = 'dog'\n",
        "else:\n",
        "    prediction = 'cat'"
      ],
      "execution_count": null,
      "outputs": []
    },
    {
      "cell_type": "code",
      "metadata": {
        "id": "hxVtt1AIOtN_",
        "outputId": "225ff78c-525e-4915-fdb5-5cb11c6c3dc3",
        "colab": {
          "base_uri": "https://localhost:8080/",
          "height": 98
        }
      },
      "source": [
        "# Viewing the Actual Test Image\n",
        "print(\"The actual image is :-\")\n",
        "actual_test_image"
      ],
      "execution_count": null,
      "outputs": [
        {
          "output_type": "stream",
          "text": [
            "The actual image is :-\n"
          ],
          "name": "stdout"
        },
        {
          "output_type": "execute_result",
          "data": {
            "image/png": "[encoded data removed]",
            "text/plain": [
              "<PIL.Image.Image image mode=RGB size=64x64 at 0x7F0E72DBD2B0>"
            ]
          },
          "metadata": {
            "tags": []
          },
          "execution_count": 44
        }
      ]
    },
    {
      "cell_type": "code",
      "metadata": {
        "id": "XWeUF0xJOv6l",
        "outputId": "374d7bff-f008-4ea8-ef79-7e6204cfde5e",
        "colab": {
          "base_uri": "https://localhost:8080/",
          "height": 34
        }
      },
      "source": [
        "# Viewing the Prediction\n",
        "print(\"The predicted image is a\", prediction)"
      ],
      "execution_count": null,
      "outputs": [
        {
          "output_type": "stream",
          "text": [
            "The predicted image is a dog\n"
          ],
          "name": "stdout"
        }
      ]
    },
    {
      "cell_type": "markdown",
      "metadata": {
        "id": "S_l-5Jtp9NrJ"
      },
      "source": [
        "**Conclusion :** A random image of cat or dog, can thus be predicted with 87.95 % Accuracy. "
      ]
    }
  ]
}